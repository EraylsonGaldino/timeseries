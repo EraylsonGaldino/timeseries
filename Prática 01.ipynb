{
 "cells": [
  {
   "cell_type": "markdown",
   "metadata": {},
   "source": [
    "## Análise e Estimação de um Modelo para série de vendas no varejo"
   ]
  },
  {
   "cell_type": "code",
   "execution_count": null,
   "metadata": {},
   "outputs": [],
   "source": [
    "#Bibliotecas\n",
    "\n",
    "import pandas as pd\n",
    "import matplotlib.pyplot as plt\n",
    "import numpy as np\n",
    "\n",
    "import statsmodels.tsa.api as smt \n",
    "\n",
    "from sklearn.linear_model import LinearRegression\n",
    "\n",
    "from numpy import polyfit\n",
    "\n",
    "from matplotlib.pylab import rcParams\n"
   ]
  },
  {
   "cell_type": "code",
   "execution_count": null,
   "metadata": {},
   "outputs": [],
   "source": [
    "#tamanho das imagens\n",
    "rcParams['figure.figsize'] = 15, 6"
   ]
  },
  {
   "cell_type": "markdown",
   "metadata": {},
   "source": [
    "#### Leitura de Dados"
   ]
  },
  {
   "cell_type": "code",
   "execution_count": null,
   "metadata": {},
   "outputs": [],
   "source": [
    "dados = pd.read_excel('vendas_varejo.xlsx')"
   ]
  },
  {
   "cell_type": "code",
   "execution_count": null,
   "metadata": {},
   "outputs": [],
   "source": [
    "dados.head(3)"
   ]
  },
  {
   "cell_type": "code",
   "execution_count": null,
   "metadata": {},
   "outputs": [],
   "source": [
    "serie_vendas = pd.Series(dados['Indice'].values, index= dados['Data'])"
   ]
  },
  {
   "cell_type": "code",
   "execution_count": null,
   "metadata": {},
   "outputs": [],
   "source": [
    "plt.plot(serie_vendas)\n",
    "plt.show()"
   ]
  },
  {
   "cell_type": "code",
   "execution_count": null,
   "metadata": {},
   "outputs": [],
   "source": [
    "## Verificando o comportamento de 2 ano da série\n",
    "plt.plot(serie_vendas[0:24])\n",
    "plt.show()"
   ]
  },
  {
   "cell_type": "code",
   "execution_count": null,
   "metadata": {},
   "outputs": [],
   "source": [
    "smt.graphics.plot_pacf(serie_vendas, lags=12, alpha=0.5)"
   ]
  },
  {
   "cell_type": "markdown",
   "metadata": {},
   "source": [
    "#### Verificando se existe tendência "
   ]
  },
  {
   "cell_type": "code",
   "execution_count": null,
   "metadata": {},
   "outputs": [],
   "source": [
    "m_m = serie_vendas.rolling(window=12).mean()\n",
    "m_std = serie_vendas.rolling(window=12).std() \n",
    "\n",
    "orig = plt.plot(serie_vendas, color='blue',label='Original')\n",
    "mean = plt.plot(m_m, color='red',label='Média')\n",
    "std = plt.plot(m_std, color='black',label='Desvio')\n",
    "plt.legend(loc='best')\n",
    "plt.show()"
   ]
  },
  {
   "cell_type": "markdown",
   "metadata": {},
   "source": [
    "### 1ª Resolução\n",
    "\n",
    "* Utilizar as seguintes técnicas: \n",
    "  * Estimar tendência através de uma reta utilizando regressão linear\n",
    "  * Eliminar a tendência estimada\n",
    "  * Estimar a sazonalidade através de polinômios \n",
    "  * Eliminar a sazonalidade\n",
    "  * Utilizar um modelo de média zero para representar o resíduo \n"
   ]
  },
  {
   "cell_type": "code",
   "execution_count": null,
   "metadata": {},
   "outputs": [],
   "source": [
    "X = [i for i in range(0, len(serie_vendas))]\n",
    "X = np.reshape(X, (len(X), 1))\n",
    "y = serie_vendas\n",
    "modelo = LinearRegression()\n",
    "modelo.fit(X, y)  "
   ]
  },
  {
   "cell_type": "code",
   "execution_count": null,
   "metadata": {},
   "outputs": [],
   "source": [
    "modelo.coef_"
   ]
  },
  {
   "cell_type": "code",
   "execution_count": null,
   "metadata": {},
   "outputs": [],
   "source": [
    "tendencia = modelo.predict(X)"
   ]
  },
  {
   "cell_type": "code",
   "execution_count": null,
   "metadata": {},
   "outputs": [],
   "source": [
    "plt.plot(serie_vendas.values, color='blue',label='Original')\n",
    "plt.plot(tendencia,color='red', label='Tendência' )\n",
    "plt.show()"
   ]
  },
  {
   "cell_type": "markdown",
   "metadata": {},
   "source": [
    "#### Eliminação de Tendência"
   ]
  },
  {
   "cell_type": "code",
   "execution_count": null,
   "metadata": {},
   "outputs": [],
   "source": [
    "serie_sem_tendencia = serie_vendas - tendencia"
   ]
  },
  {
   "cell_type": "code",
   "execution_count": null,
   "metadata": {},
   "outputs": [],
   "source": [
    "m_m = serie_sem_tendencia.rolling(window=12).mean()\n",
    "mean = plt.plot(m_m, color='red',label='Média')\n",
    "plt.plot(serie_sem_tendencia, label='Sem tendencia')\n",
    "plt.legend(loc='best')\n",
    "plt.show()"
   ]
  },
  {
   "cell_type": "markdown",
   "metadata": {},
   "source": [
    "#### Estimando o componente de sazonalidade"
   ]
  },
  {
   "cell_type": "code",
   "execution_count": null,
   "metadata": {},
   "outputs": [],
   "source": [
    "# ajuste polynomial: x^2*b1 + x*b2 + ... + bn\n",
    "X = [i for i in range(0, len(serie_sem_tendencia))]\n",
    "y = serie_sem_tendencia.values\n",
    "degree = 12\n",
    "coef = polyfit(X, y, degree)\n",
    "print('Coefficients: %s' % coef)"
   ]
  },
  {
   "cell_type": "code",
   "execution_count": null,
   "metadata": {},
   "outputs": [],
   "source": [
    "curva = []\n",
    "for i in range(len(X)):\n",
    "    valor = coef[-1]\n",
    "    for d in range(degree):\n",
    "        valor += X[i]**(degree-d) * coef[d]\n",
    "    curva.append(valor)"
   ]
  },
  {
   "cell_type": "code",
   "execution_count": null,
   "metadata": {},
   "outputs": [],
   "source": [
    "plt.plot(serie_sem_tendencia.values)\n",
    "plt.plot(curva, color='red', label='sazonalidade')\n",
    "plt.legend(loc='best')\n",
    "plt.show()"
   ]
  },
  {
   "cell_type": "markdown",
   "metadata": {},
   "source": [
    "#### Eliminação da sazonalide"
   ]
  },
  {
   "cell_type": "code",
   "execution_count": null,
   "metadata": {},
   "outputs": [],
   "source": [
    "serie_sem_tendencia_sazonalidade = serie_sem_tendencia - curva"
   ]
  },
  {
   "cell_type": "code",
   "execution_count": null,
   "metadata": {},
   "outputs": [],
   "source": [
    "m_m = serie_sem_tendencia_sazonalidade.rolling(window=12).mean()\n",
    "plt.plot(serie_sem_tendencia_sazonalidade, label='resíduo')\n",
    "mean = plt.plot(m_m, color='red',label='Média')\n",
    "plt.legend(loc='best')\n",
    "plt.show()"
   ]
  },
  {
   "cell_type": "code",
   "execution_count": null,
   "metadata": {},
   "outputs": [],
   "source": [
    "smt.graphics.plot_pacf(serie_sem_tendencia_sazonalidade, lags=12, alpha=0.5)"
   ]
  },
  {
   "cell_type": "markdown",
   "metadata": {},
   "source": [
    "#### Aplicando um modelo de média zero no resíduo "
   ]
  },
  {
   "cell_type": "code",
   "execution_count": null,
   "metadata": {},
   "outputs": [],
   "source": [
    "desvio = 2\n",
    "random_normal = [i for i in np.random.normal(scale=desvio, size = len(serie_sem_tendencia_sazonalidade))]"
   ]
  },
  {
   "cell_type": "code",
   "execution_count": null,
   "metadata": {},
   "outputs": [],
   "source": [
    "plt.plot(serie_sem_tendencia_sazonalidade.values, label='resíduo')\n",
    "plt.plot(random_normal, color='red',label='Random estimado')\n",
    "plt.legend(loc='best')\n",
    "plt.show()"
   ]
  },
  {
   "cell_type": "markdown",
   "metadata": {},
   "source": [
    "#### Previsão\n"
   ]
  },
  {
   "cell_type": "code",
   "execution_count": null,
   "metadata": {},
   "outputs": [],
   "source": [
    "def previsao_tendencia(indices_anteriores, comp_tend):\n",
    "    #prever a tendência utilizando uma reta estimada por regressão\n",
    "    indices_anteriores = np.reshape(indices_anteriores, (len(indices_anteriores),1))\n",
    "    \n",
    "    prev_tendencia = comp_tend.predict(indices_anteriores)\n",
    "    return prev_tendencia"
   ]
  },
  {
   "cell_type": "code",
   "execution_count": null,
   "metadata": {},
   "outputs": [],
   "source": [
    "def previsao_sazonalidade(indices_anteriores, comp_tend):\n",
    "    #prever o valor do componente de sazonalidade utilizando ajuste polinomial \n",
    "    curva = []\n",
    "    for i in range(len(indices_anteriores)):\n",
    "        valor = comp_tend[-1]\n",
    "        for d in range(degree):\n",
    "            valor += indices_anteriores[i]**(degree-d) * comp_tend[d]\n",
    "        curva.append(valor)\n",
    "    return curva\n",
    "    "
   ]
  },
  {
   "cell_type": "code",
   "execution_count": null,
   "metadata": {},
   "outputs": [],
   "source": [
    "def previsao_final(indices, comp_tend, comp_sazon, desv_random):\n",
    "    #prever o valor da tendência\n",
    "    tendencia = previsao_tendencia(indices, comp_tend)\n",
    "    \n",
    "    #prever o valor da sazonalidade\n",
    "    sazonalidade = previsao_sazonalidade(indices, coef)\n",
    "        \n",
    "    #prever o valor do resíduo\n",
    "    residuo = [i for i in np.random.normal(scale=desv_random, size = len(indices))]\n",
    "    \n",
    "    prev_final = tendencia + sazonalidade + residuo\n",
    "    return prev_final \n",
    "    "
   ]
  },
  {
   "cell_type": "code",
   "execution_count": null,
   "metadata": {},
   "outputs": [],
   "source": [
    "# Prevendo os dados de treinamento\n",
    "indices = [i for i in range(0, len(serie_vendas))]\n",
    "prev_vendas= previsao_final(indices, modelo, coef, desvio)"
   ]
  },
  {
   "cell_type": "code",
   "execution_count": null,
   "metadata": {},
   "outputs": [],
   "source": []
  },
  {
   "cell_type": "code",
   "execution_count": null,
   "metadata": {},
   "outputs": [],
   "source": [
    "plt.plot(serie_vendas.values, color='blue', label='Serie Real')\n",
    "plt.plot(prev_vendas, color='red', label='Previsao')\n",
    "plt.legend(loc='best')\n",
    "plt.show()"
   ]
  },
  {
   "cell_type": "markdown",
   "metadata": {},
   "source": [
    "### 2ª Resolução\n",
    "\n",
    "* Utilizar as seguintes técnicas: \n",
    "  * Estimar tendência através de média móveis e ajuste exponencial \n",
    "  * Eliminar a tendência estimada\n",
    "  * Estimar a sazonalidade através através de média móveis \n",
    "  * Eliminar a sazonalidade\n",
    "  * Utilizar um modelo de média zero para representar o resíduo \n",
    "  "
   ]
  },
  {
   "cell_type": "markdown",
   "metadata": {},
   "source": [
    "#### Estimando a tendência por média móveis "
   ]
  },
  {
   "cell_type": "code",
   "execution_count": null,
   "metadata": {},
   "outputs": [],
   "source": [
    "rolling = serie_vendas.rolling(window=12)\n",
    "media_mov = rolling.mean()\n",
    "# plot original and transformed dataset\n",
    "plt.plot(serie_vendas, label='Série Real')\n",
    "plt.plot(media_mov,color='red', label='Média Móveis')\n",
    "plt.legend(loc='best')\n",
    "plt.show()"
   ]
  },
  {
   "cell_type": "markdown",
   "metadata": {},
   "source": [
    "#### Estimando a tendência por suavização exponencial "
   ]
  },
  {
   "cell_type": "code",
   "execution_count": null,
   "metadata": {},
   "outputs": [],
   "source": [
    "rolling =  serie_vendas.ewm(alpha =0.1)\n",
    "suav_exp = rolling.mean()\n",
    "plt.plot(serie_vendas, label='Série Real')\n",
    "plt.plot(suav_exp,color='red', label='Exponencial')\n",
    "plt.legend(loc='best')\n",
    "plt.show()"
   ]
  },
  {
   "cell_type": "markdown",
   "metadata": {},
   "source": [
    "#### Eliminando o componente de tendência"
   ]
  },
  {
   "cell_type": "code",
   "execution_count": null,
   "metadata": {},
   "outputs": [],
   "source": [
    "serie_sem_tendencia = serie_vendas - suav_exp  # Série - componente de tendência"
   ]
  },
  {
   "cell_type": "markdown",
   "metadata": {},
   "source": [
    "#### Estimando o componente de sazonalidade por média móvel "
   ]
  },
  {
   "cell_type": "code",
   "execution_count": null,
   "metadata": {},
   "outputs": [],
   "source": [
    "#Aplica média móveis na série sem a tendência \n",
    "rolling = serie_sem_tendencia.rolling(window=2)\n",
    "saz_mean_mov = rolling.mean()\n",
    "# plot original and transformed dataset\n",
    "plt.plot(serie_sem_tendencia, label='Série sem tendência')\n",
    "plt.plot(saz_mean_mov,color='red', label='Média Móveis')\n",
    "plt.legend(loc='best')\n",
    "plt.show()"
   ]
  },
  {
   "cell_type": "markdown",
   "metadata": {},
   "source": [
    "#### Eliminando a sazonalidade\n"
   ]
  },
  {
   "cell_type": "code",
   "execution_count": null,
   "metadata": {},
   "outputs": [],
   "source": [
    "serie_residuo = serie_sem_tendencia - saz_mean_mov #Elimina o componente de sazonalidade "
   ]
  },
  {
   "cell_type": "code",
   "execution_count": null,
   "metadata": {},
   "outputs": [],
   "source": [
    "m_m = serie_residuo.rolling(window=12).mean()\n",
    "plt.plot(serie_residuo, label='resíduo')\n",
    "mean = plt.plot(m_m, color='red',label='Média')\n",
    "plt.legend(loc='best')\n",
    "plt.show()"
   ]
  },
  {
   "cell_type": "markdown",
   "metadata": {},
   "source": [
    "#### Aplicando um modelo de média zero no resíduo "
   ]
  },
  {
   "cell_type": "code",
   "execution_count": null,
   "metadata": {},
   "outputs": [],
   "source": [
    "desvio = 2\n",
    "random_normal = [i for i in np.random.normal(scale=desvio, size = len(serie_residuo))]"
   ]
  },
  {
   "cell_type": "code",
   "execution_count": null,
   "metadata": {},
   "outputs": [],
   "source": [
    "plt.plot(serie_sem_tendencia_sazonalidade.values, label='resíduo')\n",
    "plt.plot(random_normal, color='red',label='Random estimado')\n",
    "plt.legend(loc='best')\n",
    "plt.show()"
   ]
  },
  {
   "cell_type": "markdown",
   "metadata": {},
   "source": [
    "### 3ª Resolução\n",
    "\n",
    "* Utilizar as seguintes técnicas: \n",
    "  * Eliminar a tendência através de diferenciação\n",
    "  * Eliminar a sazonalidade através de diferenciação\n",
    "  * Utilizar um modelo de média zero para representar o resíduo "
   ]
  },
  {
   "cell_type": "markdown",
   "metadata": {},
   "source": [
    "#### Eliminando a tendência através da Diferenciação"
   ]
  },
  {
   "cell_type": "code",
   "execution_count": null,
   "metadata": {},
   "outputs": [],
   "source": [
    "serie_diff = []\n",
    "for i in range(1, len(serie_vendas)):\n",
    "    valor = serie_vendas[i] - serie_vendas[i - 1]\n",
    "    serie_diff.append(valor)\n",
    "\n",
    "serie_diff = pd.Series(serie_diff)"
   ]
  },
  {
   "cell_type": "code",
   "execution_count": null,
   "metadata": {},
   "outputs": [],
   "source": [
    "m_m = serie_diff.rolling(window=12).mean()\n",
    "plt.plot(serie_diff, label='Série com Diff')\n",
    "mean = plt.plot(m_m, color='red',label='Média')\n",
    "plt.legend(loc='best')\n",
    "plt.show()"
   ]
  },
  {
   "cell_type": "code",
   "execution_count": null,
   "metadata": {},
   "outputs": [],
   "source": [
    "## de forma mais simples\n",
    "serie_diff_pd = serie_vendas - serie_vendas.shift()"
   ]
  },
  {
   "cell_type": "code",
   "execution_count": null,
   "metadata": {},
   "outputs": [],
   "source": [
    "m_m = serie_diff_pd.rolling(window=12).mean()\n",
    "plt.plot(serie_diff_pd, label='Série com Diff')\n",
    "mean = plt.plot(m_m, color='red',label='Média')\n",
    "plt.legend(loc='best')\n",
    "plt.show()"
   ]
  },
  {
   "cell_type": "code",
   "execution_count": null,
   "metadata": {},
   "outputs": [],
   "source": [
    "serie_diff_pd.dropna(inplace=True)\n",
    "smt.graphics.plot_pacf(serie_diff_pd, lags=12, alpha=0.5)"
   ]
  },
  {
   "cell_type": "code",
   "execution_count": null,
   "metadata": {},
   "outputs": [],
   "source": [
    "desvio = 5\n",
    "random_normal = [i for i in np.random.normal(scale=desvio, size = len(serie_diff_pd))]"
   ]
  },
  {
   "cell_type": "code",
   "execution_count": null,
   "metadata": {},
   "outputs": [],
   "source": [
    "plt.plot(serie_diff_pd.values, label='Serie Diff')\n",
    "plt.plot(random_normal, color='red',label='Random estimado')\n",
    "plt.legend(loc='best')\n",
    "plt.show()"
   ]
  },
  {
   "cell_type": "code",
   "execution_count": null,
   "metadata": {},
   "outputs": [],
   "source": []
  },
  {
   "cell_type": "markdown",
   "metadata": {},
   "source": [
    "#### Eliminando a sazonalidade através da diferenciação"
   ]
  },
  {
   "cell_type": "code",
   "execution_count": null,
   "metadata": {},
   "outputs": [],
   "source": [
    "serie_diff_2 = []\n",
    "meses = 12\n",
    "for i in range(meses, len(serie_vendas)):\n",
    "    value = serie_vendas[i] - serie_vendas[i - meses]\n",
    "    serie_diff_2.append(value)\n",
    "serie_diff_2_pd = pd.Series(serie_diff_2)"
   ]
  },
  {
   "cell_type": "code",
   "execution_count": null,
   "metadata": {},
   "outputs": [],
   "source": [
    "m_m = serie_diff_2_pd.rolling(window=12).mean()\n",
    "plt.plot(serie_diff_2_pd, label='Série com Diff')\n",
    "mean = plt.plot(m_m, color='red',label='Média')\n",
    "plt.legend(loc='best')\n",
    "plt.show()"
   ]
  },
  {
   "cell_type": "code",
   "execution_count": null,
   "metadata": {},
   "outputs": [],
   "source": [
    "## de forma mais simples\n",
    "serie_diff_2_pd = serie_vendas - serie_vendas.shift(12)"
   ]
  },
  {
   "cell_type": "code",
   "execution_count": null,
   "metadata": {},
   "outputs": [],
   "source": [
    "m_m = serie_diff_2_pd.rolling(window=12).mean()\n",
    "plt.plot(serie_diff_2_pd, label='Série com Diff')\n",
    "mean = plt.plot(m_m, color='red',label='Média')\n",
    "plt.legend(loc='best')\n",
    "plt.show()"
   ]
  },
  {
   "cell_type": "code",
   "execution_count": null,
   "metadata": {},
   "outputs": [],
   "source": [
    "serie_diff_2_pd.dropna(inplace=True)\n",
    "smt.graphics.plot_pacf(serie_diff_2_pd, lags=12, alpha=0.5)"
   ]
  },
  {
   "cell_type": "markdown",
   "metadata": {},
   "source": [
    " "
   ]
  },
  {
   "cell_type": "markdown",
   "metadata": {},
   "source": [
    "  "
   ]
  },
  {
   "cell_type": "markdown",
   "metadata": {},
   "source": [
    "# Análisando o ruído"
   ]
  },
  {
   "cell_type": "markdown",
   "metadata": {},
   "source": [
    "#### Previsão com média móveis para série diferenciada "
   ]
  },
  {
   "cell_type": "code",
   "execution_count": null,
   "metadata": {},
   "outputs": [],
   "source": [
    "def prev_media_mov(janela):\n",
    "    prev = np.mean(janela)\n",
    "    return prev\n",
    "    "
   ]
  },
  {
   "cell_type": "code",
   "execution_count": null,
   "metadata": {},
   "outputs": [],
   "source": [
    "X = serie_diff.values\n",
    "tam_janela = 2\n",
    "pontos_anteriores = [X[i] for i in range(tam_janela)]\n",
    "pontos_futuros = [X[i] for i in range(tam_janela, len(X))]\n",
    "previsao = []\n",
    "target = []\n",
    "\n",
    "for t in range(len(pontos_futuros)):\n",
    "   \n",
    "    janela = pontos_anteriores[-tam_janela:] #obtém a janela dos pontos anteriores \n",
    "    prev = prev_media_mov(janela)  \n",
    "    previsao.append(prev)\n",
    "    target.append(pontos_futuros[t])\n",
    "    pontos_anteriores.append(pontos_futuros[t])"
   ]
  },
  {
   "cell_type": "code",
   "execution_count": null,
   "metadata": {},
   "outputs": [],
   "source": [
    "plt.plot(previsao, color='red', label='MM')\n",
    "plt.plot(target, label='Série Diff')\n",
    "plt.legend(loc='best')\n",
    "plt.show()"
   ]
  },
  {
   "cell_type": "markdown",
   "metadata": {},
   "source": [
    "#### Gerando o ruído"
   ]
  },
  {
   "cell_type": "code",
   "execution_count": null,
   "metadata": {},
   "outputs": [],
   "source": [
    "ruido = np.subtract(target,previsao)"
   ]
  },
  {
   "cell_type": "code",
   "execution_count": null,
   "metadata": {},
   "outputs": [],
   "source": [
    "plt.plot(ruido, label='ruído')\n",
    "plt.legend()\n",
    "plt.show()"
   ]
  },
  {
   "cell_type": "markdown",
   "metadata": {},
   "source": [
    "#### Análisando através de correlograma"
   ]
  },
  {
   "cell_type": "code",
   "execution_count": null,
   "metadata": {},
   "outputs": [],
   "source": [
    "smt.graphics.plot_pacf(ruido, lags=12, alpha=0.5)"
   ]
  },
  {
   "cell_type": "markdown",
   "metadata": {},
   "source": [
    "#### Análisando através de histograma \n",
    "\n",
    "* __utilizar para entender as distribuições dos dados__ \n",
    "* __No melhor caso, o ruído tem uma distribuição normal em torno de zero__ "
   ]
  },
  {
   "cell_type": "code",
   "execution_count": null,
   "metadata": {},
   "outputs": [],
   "source": [
    "plt.hist(ruido,  label='ruído')\n",
    "plt.show()"
   ]
  },
  {
   "cell_type": "markdown",
   "metadata": {},
   "source": [
    "#### Análisando através de Q-Q Plot\n",
    "* __compara duas distribuições para verificar o quão semelhante ou diferentes elas são;__\n",
    "* __frequentemente utilizado para verificar normalidade;__ \n"
   ]
  },
  {
   "cell_type": "code",
   "execution_count": null,
   "metadata": {},
   "outputs": [],
   "source": [
    "from statsmodels.graphics.gofplots import qqplot"
   ]
  },
  {
   "cell_type": "code",
   "execution_count": null,
   "metadata": {},
   "outputs": [],
   "source": [
    "\n",
    "qqplot(ruido, line='s')\n",
    "plt.show()"
   ]
  },
  {
   "cell_type": "code",
   "execution_count": null,
   "metadata": {},
   "outputs": [],
   "source": [
    "# em caso de ser um ruído branco\n",
    "e = np.random.normal(size=len(ruido))\n",
    "qqplot(e, line='s')\n",
    "plt.show()"
   ]
  },
  {
   "cell_type": "markdown",
   "metadata": {},
   "source": [
    " "
   ]
  },
  {
   "cell_type": "markdown",
   "metadata": {},
   "source": [
    "## Análisando e prevendo uma série com random walk"
   ]
  },
  {
   "cell_type": "code",
   "execution_count": null,
   "metadata": {},
   "outputs": [],
   "source": [
    "serie_microsoft = pd.read_csv('msft.txt', header=None) "
   ]
  },
  {
   "cell_type": "code",
   "execution_count": null,
   "metadata": {},
   "outputs": [],
   "source": [
    "plt.plot(serie_microsoft)\n",
    "plt.show()"
   ]
  },
  {
   "cell_type": "markdown",
   "metadata": {},
   "source": [
    "### Verificando se existe o comportamento de random walk"
   ]
  },
  {
   "cell_type": "code",
   "execution_count": null,
   "metadata": {},
   "outputs": [],
   "source": [
    "smt.graphics.plot_pacf(serie_microsoft, lags=12, alpha=0.5)"
   ]
  },
  {
   "cell_type": "code",
   "execution_count": null,
   "metadata": {},
   "outputs": [],
   "source": [
    "### verificando qual o passo do random walk\n",
    "passos = []\n",
    "for i in range(1, len(serie_microsoft)):\n",
    "    passo = serie_microsoft.values[i] - serie_microsoft.values[i-1]\n",
    "    passos.append(passo[0])"
   ]
  },
  {
   "cell_type": "code",
   "execution_count": null,
   "metadata": {},
   "outputs": [],
   "source": [
    "media = np.mean(passos)"
   ]
  },
  {
   "cell_type": "code",
   "execution_count": null,
   "metadata": {},
   "outputs": [],
   "source": [
    "desvio = np.std(passos)"
   ]
  },
  {
   "cell_type": "code",
   "execution_count": null,
   "metadata": {},
   "outputs": [],
   "source": [
    "def prever_randomwalk(valores_anteriores, media, desvio):\n",
    "    soma = 0\n",
    "    for i in range(0, len(valores_anteriores)):\n",
    "        soma = soma + valores_anteriores[i] + np.random.normal(media, desvio, 1)[0]\n",
    "        \n",
    "    prev = soma\n",
    "    return prev\n",
    "    \n",
    "    "
   ]
  },
  {
   "cell_type": "code",
   "execution_count": null,
   "metadata": {},
   "outputs": [],
   "source": [
    "previsoes = []\n",
    "qtd_lag = 1\n",
    "x_entrada = serie_microsoft[0:-qtd_lag]\n",
    "y_saida = serie_microsoft[qtd_lag:]\n",
    "\n",
    "\n"
   ]
  },
  {
   "cell_type": "code",
   "execution_count": null,
   "metadata": {},
   "outputs": [],
   "source": [
    "y_saida.head(5)"
   ]
  },
  {
   "cell_type": "code",
   "execution_count": null,
   "metadata": {},
   "outputs": [],
   "source": [
    "previsao = []\n",
    "for i in range(0, len(y_saida)):\n",
    "    prev = prever_randomwalk(x_entrada.values[i], media, desvio)\n",
    "    previsao.append(prev)\n",
    "    "
   ]
  },
  {
   "cell_type": "code",
   "execution_count": null,
   "metadata": {},
   "outputs": [],
   "source": [
    "plt.plot(previsao, color='red', label='Previsao')\n",
    "plt.plot(y_saida.values, label='Real')\n",
    "plt.legend(loc='best')\n",
    "plt.show()"
   ]
  },
  {
   "cell_type": "code",
   "execution_count": null,
   "metadata": {},
   "outputs": [],
   "source": [
    "plt.plot(previsao[-100:], color='red', label='Previsao')\n",
    "plt.plot(y_saida.values[-100:], label='Real')\n",
    "plt.legend(loc='best')\n",
    "plt.show()"
   ]
  },
  {
   "cell_type": "markdown",
   "metadata": {},
   "source": [
    "### Análisando o resíduo "
   ]
  },
  {
   "cell_type": "code",
   "execution_count": null,
   "metadata": {},
   "outputs": [],
   "source": [
    "target = y_saida.values\n",
    "target = np.reshape(target, (len(target)))\n",
    "\n"
   ]
  },
  {
   "cell_type": "code",
   "execution_count": null,
   "metadata": {},
   "outputs": [],
   "source": [
    "residuo = target- previsao"
   ]
  },
  {
   "cell_type": "code",
   "execution_count": null,
   "metadata": {},
   "outputs": [],
   "source": [
    "plt.plot(residuo)\n",
    "plt.show()"
   ]
  },
  {
   "cell_type": "code",
   "execution_count": null,
   "metadata": {},
   "outputs": [],
   "source": [
    "smt.graphics.plot_pacf(residuo, lags=12, alpha=0.5)"
   ]
  },
  {
   "cell_type": "markdown",
   "metadata": {},
   "source": [
    " "
   ]
  },
  {
   "cell_type": "markdown",
   "metadata": {},
   "source": [
    "  "
   ]
  },
  {
   "cell_type": "markdown",
   "metadata": {},
   "source": [
    "# Resumo"
   ]
  },
  {
   "cell_type": "markdown",
   "metadata": {},
   "source": [
    "### >A análise de séries temporais começa através da geração do gráfico da série\n",
    "\n",
    "### >Importância de se obter uma série estacionária e como fazer isso através das técnicas de estimação e eliminação dos componentes de tendência e sazanalidade ou através da diferenciação\n",
    "\n",
    "### >Importância da análise de ruídos e como fazer isso através de técnicas visuais "
   ]
  },
  {
   "cell_type": "code",
   "execution_count": null,
   "metadata": {},
   "outputs": [],
   "source": []
  }
 ],
 "metadata": {
  "kernelspec": {
   "display_name": "Python 3",
   "language": "python",
   "name": "python3"
  },
  "language_info": {
   "codemirror_mode": {
    "name": "ipython",
    "version": 3
   },
   "file_extension": ".py",
   "mimetype": "text/x-python",
   "name": "python",
   "nbconvert_exporter": "python",
   "pygments_lexer": "ipython3",
   "version": "3.6.1"
  }
 },
 "nbformat": 4,
 "nbformat_minor": 2
}
